{
 "cells": [
  {
   "cell_type": "markdown",
   "source": [
    "use surprise reader object or something idk\n"
   ],
   "metadata": {
    "collapsed": false
   }
  },
  {
   "cell_type": "code",
   "execution_count": null,
   "metadata": {
    "collapsed": true
   },
   "outputs": [],
   "source": [
    "# Load the grouped_df dataframe into a Surprise Dataset object\n",
    "data = Dataset.load_from_df(grouped_df, Reader())"
   ]
  },
  {
   "cell_type": "markdown",
   "source": [],
   "metadata": {
    "collapsed": false
   }
  },
  {
   "cell_type": "code",
   "execution_count": null,
   "outputs": [],
   "source": [
    "# Create a KNeighborsClassifier model with 5 nearest neighbors\n",
    "knn_model = KNeighborsClassifier(n_neighbors=5)\n",
    "\n",
    "# Perform 10-fold cross validation on the data with no missing imd_band values\n",
    "cv_scores = cross_val_score(knn_model, df_not_missing_encoded[features], df_not_missing_encoded['imd_band'], cv=10)\n",
    "\n",
    "# Print the average cross-validation score\n",
    "print('Average cross-validation score: {:.2f}'.format(cv_scores.mean()))"
   ],
   "metadata": {
    "collapsed": false
   }
  },
  {
   "cell_type": "markdown",
   "source": [],
   "metadata": {
    "collapsed": false
   }
  },
  {
   "cell_type": "markdown",
   "source": [],
   "metadata": {
    "collapsed": false
   }
  },
  {
   "cell_type": "markdown",
   "source": [],
   "metadata": {
    "collapsed": false
   }
  },
  {
   "cell_type": "code",
   "execution_count": null,
   "outputs": [],
   "source": [
    "from sklearn.neighbors import KNeighborsClassifier\n",
    "from sklearn.model_selection import train_test_split\n",
    "from sklearn.preprocessing import OneHotEncoder\n",
    "from sklearn.metrics import accuracy_score\n",
    "\n",
    "# Split the data into two parts: one with missing values in imd_band, and another with no missing values\n",
    "df_missing = df_cleaned[df_cleaned['imd_band'].isna()]\n",
    "df_not_missing = df_cleaned[~df_cleaned['imd_band'].isna()]\n",
    "\n",
    "# Encode categorical variables using one-hot encoding\n",
    "encoder = OneHotEncoder(handle_unknown='ignore')\n",
    "encoder.fit(df_not_missing[cat_cols])\n",
    "df_not_missing_encoded = encoder.transform(df_not_missing[cat_cols])\n",
    "df_missing_encoded = encoder.transform(df_missing[cat_cols])\n",
    "\n",
    "# Split df_not_missing_encoded into train and test sets\n",
    "X_train, X_test, y_train, y_test = train_test_split(df_not_missing_encoded, df_not_missing['imd_band'], test_size=0.2, random_state=42)\n",
    "\n",
    "\n",
    "\n",
    "# Train a KNN model\n",
    "#knn_model = KNeighborsClassifier(n_neighbors=5)\n",
    "#knn_model.fit(X_train, y_train)\n",
    "\n",
    "# Predict missing imd_band values in df_missing\n",
    "#predicted_imd_band = knn_model.predict(df_missing_encoded)\n",
    "\n",
    "# Calculate accuracy score on the test set\n",
    "#accuracy = accuracy_score(y_test, knn_model.predict(X_test))\n",
    "#print('Accuracy score: {:.2f}'.format(accuracy))"
   ],
   "metadata": {
    "collapsed": false
   }
  },
  {
   "cell_type": "markdown",
   "source": [],
   "metadata": {
    "collapsed": false
   }
  },
  {
   "cell_type": "markdown",
   "source": [
    "dont run this\n"
   ],
   "metadata": {
    "collapsed": false
   }
  },
  {
   "cell_type": "code",
   "execution_count": null,
   "outputs": [],
   "source": [
    "from sklearn.neighbors import KNeighborsClassifier\n",
    "from sklearn.model_selection import train_test_split\n",
    "from sklearn.preprocessing import OneHotEncoder\n",
    "from sklearn.metrics import accuracy_score\n",
    "from tqdm import tqdm\n",
    "\n",
    "# Split the data into two parts: one with missing values in imd_band, and another with no missing values\n",
    "df_missing = df_cleaned[df_cleaned['imd_band'].isna()]\n",
    "df_not_missing = df_cleaned[~df_cleaned['imd_band'].isna()]\n",
    "\n",
    "# Split df_not_missing into train and test sets\n",
    "X_train, X_test, y_train, y_test = train_test_split(df_not_missing.drop('imd_band', axis=1), df_not_missing['imd_band'], test_size=0.2, random_state=42)\n",
    "\n",
    "# Encode categorical variables using one-hot encoding\n",
    "encoder = OneHotEncoder(handle_unknown='ignore')\n",
    "encoder.fit(X_train[cat_cols])\n",
    "X_train_encoded = encoder.transform(X_train[cat_cols])\n",
    "X_test_encoded = encoder.transform(X_test[cat_cols])\n",
    "df_missing_encoded = encoder.transform(df_missing[cat_cols])\n",
    "\n",
    "\n",
    "n_samples, n_features = X_train_encoded.shape\n",
    "print(f\"Training set contains {n_samples} samples and {n_features} features.\")\n",
    "# Train a KNN model\n",
    "knn_model = KNeighborsClassifier(n_neighbors=5)\n",
    "\n",
    "# Track progress\n",
    "for i in tqdm(range(1000000)):\n",
    "    knn_model.fit(X_train_encoded, y_train)\n",
    "\n",
    "# Predict missing imd_band values in df_missing\n",
    "predicted_imd_band = knn_model.predict(df_missing_encoded)\n",
    "\n",
    "# Calculate accuracy score on the test set\n",
    "accuracy = accuracy_score(y_test, knn_model.predict(X_test_encoded))\n",
    "print('Accuracy score: {:.2f}'.format(accuracy))"
   ],
   "metadata": {
    "collapsed": false
   }
  },
  {
   "cell_type": "markdown",
   "source": [
    "another draft of the one above DONT RUN THIS"
   ],
   "metadata": {
    "collapsed": false
   }
  },
  {
   "cell_type": "code",
   "execution_count": null,
   "outputs": [],
   "source": [
    "from xgboost import XGBClassifier\n",
    "from sklearn.model_selection import train_test_split\n",
    "from sklearn.preprocessing import OneHotEncoder\n",
    "from sklearn.metrics import accuracy_score\n",
    "from tqdm import tqdm\n",
    "\n",
    "# Define functions for converting between imd_band and percentage\n",
    "def convert_imd_band(imd_band):\n",
    "    if imd_band == '0-10%':\n",
    "        return 5\n",
    "    elif imd_band == '10-20':\n",
    "        return 15\n",
    "    elif imd_band == '20-30%':\n",
    "        return 25\n",
    "    elif imd_band == '30-40%':\n",
    "        return 35\n",
    "    elif imd_band == '40-50%':\n",
    "        return 45\n",
    "    elif imd_band == '50-60%':\n",
    "        return 55\n",
    "    elif imd_band == '60-70%':\n",
    "        return 65\n",
    "    elif imd_band == '70-80%':\n",
    "        return 75\n",
    "    elif imd_band == '80-90%':\n",
    "        return 85\n",
    "    elif imd_band == '90-100%':\n",
    "        return 95\n",
    "\n",
    "def get_imd_band(imd_percentage):\n",
    "    if imd_percentage <= 10:\n",
    "        return '0-10%'\n",
    "    elif imd_percentage <= 20:\n",
    "        return '10-20'\n",
    "    elif imd_percentage <= 30:\n",
    "        return '20-30%'\n",
    "    elif imd_percentage <= 40:\n",
    "        return '30-40%'\n",
    "    elif imd_percentage <= 50:\n",
    "        return '40-50%'\n",
    "    elif imd_percentage <= 60:\n",
    "        return '50-60%'\n",
    "    elif imd_percentage <= 70:\n",
    "        return '60-70%'\n",
    "    elif imd_percentage <= 80:\n",
    "        return '70-80%'\n",
    "    elif imd_percentage <= 90:\n",
    "        return '80-90%'\n",
    "    else:\n",
    "        return '90-100%'\n",
    "\n",
    "# Split the data into two parts: one with missing values in imd_band, and another with no missing values\n",
    "df_missing = df_cleaned[df_cleaned['imd_band'].isna()]\n",
    "df_not_missing = df_cleaned[~df_cleaned['imd_band'].isna()]\n",
    "\n",
    "# Split df_not_missing into train and test sets\n",
    "X_train, X_test, y_train, y_test = train_test_split(df_not_missing.drop('imd_band', axis=1), df_not_missing['imd_band'], test_size=0.2, random_state=42)\n",
    "\n",
    "# Encode categorical variables using one-hot encoding\n",
    "encoder = OneHotEncoder(handle_unknown='ignore')\n",
    "encoder.fit(X_train[cat_cols])\n",
    "X_train_encoded = encoder.transform(X_train[cat_cols])\n",
    "X_test_encoded = encoder.transform(X_test[cat_cols])\n",
    "df_missing_encoded = encoder.transform(df_missing[cat_cols])\n",
    "\n",
    "n_samples, n_features = X_train_encoded.shape\n",
    "print(f\"Training set contains {n_samples} samples and {n_features} features.\")\n",
    "\n",
    "# Train an XGBoost model\n",
    "xgb_model = XGBClassifier(n_estimators=100, max_depth=6, objective='multi:softmax', num_class=10, verbosity=1)\n",
    "\n",
    "# Track progress\n",
    "for i in tqdm(range(100)):\n",
    "    xgb_model.fit(X_train_encoded, y_train)\n",
    "\n",
    "# Predict missing imd_band values\n",
    "missing_imd_pred = xgb_model.predict(df_missing_encoded)\n",
    "\n",
    "# Convert predicted imd_band values to imd_percentage\n",
    "missing_imd_perc = [convert_imd_band(imd_band) for imd_band in missing_imd_pred]\n",
    "\n",
    "\n"
   ],
   "metadata": {
    "collapsed": false
   }
  },
  {
   "cell_type": "markdown",
   "source": [],
   "metadata": {
    "collapsed": false
   }
  },
  {
   "cell_type": "markdown",
   "source": [],
   "metadata": {
    "collapsed": false
   }
  },
  {
   "cell_type": "markdown",
   "source": [
    "THE ONLY THING THAT MIGHT BE VALUABLE"
   ],
   "metadata": {
    "collapsed": false
   }
  },
  {
   "cell_type": "code",
   "execution_count": null,
   "outputs": [],
   "source": [
    "from sklearn.preprocessing import OneHotEncoder\n",
    "\n",
    "#use k-nearest neighbours to predict missing values instead of using mean/median, 106942 barcha we should preserve the information in it as best as we can\n",
    "\n",
    "# Split the data into two parts: one with missing values in imd_band, and another with no missing values this will act like a train & test split\n",
    "df_missing = df_cleaned[df_cleaned['imd_band'].isna()]\n",
    "df_not_missing = df_cleaned[~df_cleaned['imd_band'].isna()]\n",
    "\n",
    "# Select the features to use for predicting the missing values\n",
    "\n",
    "features = ['code_module', 'code_presentation', 'gender', 'region', 'highest_education', 'age_band', 'num_of_prev_attempts', 'disability', 'date_submitted', 'is_banked', 'score', 'sum_click']\n",
    "\n",
    "# categorical columns in the data\n",
    "cat_cols = ['code_module', 'code_presentation', 'gender', 'region', 'highest_education', 'age_band', 'disability']\n",
    "\n",
    "# OneHotEncoder instance\n",
    "encoder = OneHotEncoder(handle_unknown='ignore')\n",
    "\n",
    "# fit the encoder on the categorical columns of the training data\n",
    "encoder.fit(df_not_missing[cat_cols])\n",
    "df_not_missing_encoded = encoder.transform(df_not_missing[cat_cols])\n",
    "\n",
    "# Check data types of encoded DataFrame\n",
    "df_not_missing_encoded.toarray()\n",
    "\n",
    "\n",
    "\n",
    "#WHY IS EVERYTHING ENCODED AND THERE IS 36 COLUMNS, FIX THIS, REDO THIS WHOLE THING ITS ALL WRONG\n",
    "\n"
   ],
   "metadata": {
    "collapsed": false
   }
  },
  {
   "cell_type": "markdown",
   "source": [],
   "metadata": {
    "collapsed": false
   }
  },
  {
   "cell_type": "markdown",
   "source": [
    "ACCURACY CALCUL (DUPLICATE)"
   ],
   "metadata": {
    "collapsed": false
   }
  },
  {
   "cell_type": "code",
   "execution_count": null,
   "outputs": [],
   "source": [
    "# Get the accuracy on the training set\n",
    "train_acc = xgb_model.score(X_train_encoded, y_train)\n",
    "print(f\"Accuracy on training set: {train_acc}\")\n",
    "\n",
    "# Get the accuracy on the test set\n",
    "test_acc = accuracy_score(y_test, xgb_model.predict(X_test_encoded))\n",
    "print(f\"Accuracy on test set: {test_acc}\")"
   ],
   "metadata": {
    "collapsed": false
   }
  },
  {
   "cell_type": "markdown",
   "source": [
    "\n",
    "\n",
    "\n",
    "\n",
    "\n",
    "\n",
    "ENCODING PART TRASH"
   ],
   "metadata": {
    "collapsed": false
   }
  },
  {
   "cell_type": "code",
   "execution_count": null,
   "outputs": [],
   "source": [
    "# Encode categorical variables using one-hot encoding\n",
    "encoder = OneHotEncoder(handle_unknown='ignore')\n",
    "encoder.fit(X_train[cat_cols])\n",
    "X_train_encoded = encoder.transform(X_train[cat_cols])\n",
    "X_test_encoded = encoder.transform(X_test[cat_cols])\n",
    "df_missing_encoded = encoder.transform(df_missing[cat_cols])\n",
    "\n",
    "\n",
    "n_samples, n_features = X_train_encoded.shape\n",
    "print(f\"Training set contains {n_samples} samples and {n_features} features.\")"
   ],
   "metadata": {
    "collapsed": false
   }
  },
  {
   "cell_type": "markdown",
   "source": [
    "TRIED REINTEGRATING THE DATA ENCODED LKOLL JAWHA BEHY PART"
   ],
   "metadata": {
    "collapsed": false
   }
  },
  {
   "cell_type": "code",
   "execution_count": null,
   "outputs": [],
   "source": [
    "y_train_encoded = encoder.transform(y_train)\n",
    "y_train_processed = np.concatenate((y_train_encoded, y_train.drop(cat_cols, axis=1)), axis=1)\n",
    "y_test_encoded = encoder.transform(y_test)\n",
    "y_test_processed = np.concatenate((y_train_encoded, y_test.drop(cat_cols, axis=1)), axis=1)"
   ],
   "metadata": {
    "collapsed": false
   }
  },
  {
   "cell_type": "markdown",
   "source": [
    "THIS WAS SUPPOSED TO PREDICT AND INJECT USING XGBoost"
   ],
   "metadata": {
    "collapsed": false
   }
  },
  {
   "cell_type": "code",
   "execution_count": null,
   "outputs": [],
   "source": [
    "\n",
    "# Predict missing imd_band values\n",
    "missing_imd_pred = xgb_model.predict(df_missing_encoded)\n",
    "\n",
    "# Convert predicted imd_band values to imd_percentage\n",
    "missing_imd_perc = [convert_imd_band(imd_band) for imd_band in missing_imd_pred]"
   ],
   "metadata": {
    "collapsed": false
   }
  },
  {
   "cell_type": "code",
   "execution_count": null,
   "outputs": [],
   "source": [
    "# Reverse function to convert back to imd_band categories\n",
    "def reverse_convert_imd_band(imd_percentage):\n",
    "    if imd_percentage == 0:\n",
    "        return '0-10%'\n",
    "    elif imd_percentage == 1:\n",
    "        return '10-20%'\n",
    "    elif imd_percentage == 2:\n",
    "        return '20-30%'\n",
    "    elif imd_percentage == 3:\n",
    "        return '30-40%'\n",
    "    elif imd_percentage == 4:\n",
    "        return '40-50%'\n",
    "    elif imd_percentage == 5:\n",
    "        return '50-60%'\n",
    "    elif imd_percentage == 6:\n",
    "        return '60-70%'\n",
    "    elif imd_percentage == 7:\n",
    "        return '70-80%'\n",
    "    elif imd_percentage == 8:\n",
    "        return '80-90%'\n",
    "    elif imd_percentage == 9:\n",
    "        return '90-100%'\n",
    "\n",
    "# Convert missing_imd_perc back to imd_band categories\n",
    "missing_imd_band = [reverse_convert_imd_band(imd_perc) for imd_perc in missing_imd_perc]\n",
    "\n",
    "# Replace missing values with predicted imd_band values\n",
    "df_cleaned.loc[df_cleaned['imd_band'].isna(), 'imd_band'] = missing_imd_band\n",
    "df_cleaned.head(200)\n",
    "print(df_cleaned.shape)\n",
    "print(df_cleaned.isnull().sum())"
   ],
   "metadata": {
    "collapsed": false
   }
  },
  {
   "cell_type": "markdown",
   "source": [
    "THIS COMPARED PREDICTED VS REAL VALUES OF XGBoost"
   ],
   "metadata": {
    "collapsed": false
   }
  },
  {
   "cell_type": "code",
   "execution_count": null,
   "outputs": [],
   "source": [
    "# Generate predictions for the test set\n",
    "y_pred = xgb_model.predict(X_test_encoded)\n",
    "\n",
    "# Compare predicted vs actual values\n",
    "for i in range(len(y_test)):\n",
    "    print(f\"Predicted: {y_pred[i]} | Real: {y_test.iloc[i]}\")"
   ],
   "metadata": {
    "collapsed": false
   }
  },
  {
   "cell_type": "markdown",
   "source": [
    "ANOTHER ATTEMPT USING BATCH TRAINING, ONE BATCH PER EPOCH, THIRD MODEL"
   ],
   "metadata": {
    "collapsed": false
   }
  },
  {
   "cell_type": "code",
   "execution_count": null,
   "outputs": [],
   "source": [
    "import numpy as np\n",
    "from tensorflow import keras\n",
    "from tensorflow.keras import layers, regularizers\n",
    "\n",
    "X_train_encoded_dense = X_train_encoded.toarray()\n",
    "X_test_encoded_dense = X_test_encoded.toarray()\n",
    "\n",
    "batch_size = 32768\n",
    "num_batches = 43\n",
    "#I've chosen a batch_size of 32768 because it's 2^15 and having a size of power of 2 helps with efficient memory storage\n",
    "#we also need about 43 epochs to include all the dataset\n",
    "model3 = keras.Sequential([\n",
    "    layers.Dense(256, activation='relu', input_shape=[n_features]),\n",
    "    layers.Dense(128, activation='relu'),\n",
    "    layers.Dense(64, activation='relu'),\n",
    "    layers.Dense(10, activation='softmax')\n",
    "])\n",
    "\n",
    "model3.compile(optimizer='adam',\n",
    "               loss='sparse_categorical_crossentropy',\n",
    "               metrics=['accuracy'])\n",
    "\n",
    "#about to use X_train_processed & X_test_processed instead of X_train_encoded_dense & X_test_encoded_dense\n",
    "history3 = model3.fit(X_train_encoded_dense, y_train, batch_size=32, epochs=10, steps_per_epoch=44969, shuffle=true validation_data=(X_test_encoded_dense, y_test))\n",
    "print(history3.history['accuracy']) # training accuracy\n",
    "print(history3.history['val_accuracy']) # validation accuracy"
   ],
   "metadata": {
    "collapsed": false
   }
  }
 ],
 "metadata": {
  "kernelspec": {
   "display_name": "Python 3",
   "language": "python",
   "name": "python3"
  },
  "language_info": {
   "codemirror_mode": {
    "name": "ipython",
    "version": 2
   },
   "file_extension": ".py",
   "mimetype": "text/x-python",
   "name": "python",
   "nbconvert_exporter": "python",
   "pygments_lexer": "ipython2",
   "version": "2.7.6"
  }
 },
 "nbformat": 4,
 "nbformat_minor": 0
}
